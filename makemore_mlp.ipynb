{
  "nbformat": 4,
  "nbformat_minor": 0,
  "metadata": {
    "colab": {
      "provenance": [],
      "authorship_tag": "ABX9TyPEdATdMbEjfdKH/u0d57R8"
    },
    "kernelspec": {
      "name": "python3",
      "display_name": "Python 3"
    },
    "language_info": {
      "name": "python"
    }
  },
  "cells": [
    {
      "cell_type": "markdown",
      "source": [],
      "metadata": {
        "id": "zg_Ncc7y7eHp"
      }
    },
    {
      "cell_type": "code",
      "execution_count": 2,
      "metadata": {
        "colab": {
          "base_uri": "https://localhost:8080/"
        },
        "id": "_K3zGGkrALjB",
        "outputId": "427a5530-fd9c-4edb-db3d-7890c53b9da4"
      },
      "outputs": [
        {
          "output_type": "execute_result",
          "data": {
            "text/plain": [
              "<torch._C.Generator at 0x7cbff81eda10>"
            ]
          },
          "metadata": {},
          "execution_count": 2
        }
      ],
      "source": [
        "import torch\n",
        "import torch.nn.functional as F\n",
        "import matplotlib.pyplot as plt\n",
        "%matplotlib inline\n",
        "\n",
        "torch.manual_seed(2147483647)"
      ]
    },
    {
      "cell_type": "code",
      "source": [
        "# read dataset\n",
        "words = open('names.txt', 'r').read().splitlines()\n",
        "print(words[:5])\n",
        "print(len(words))"
      ],
      "metadata": {
        "colab": {
          "base_uri": "https://localhost:8080/"
        },
        "id": "mYmUpUknAP_7",
        "outputId": "ea4d124d-a262-45ea-c4a5-43486b2816fa"
      },
      "execution_count": 3,
      "outputs": [
        {
          "output_type": "stream",
          "name": "stdout",
          "text": [
            "['emma', 'olivia', 'ava', 'isabella', 'sophia']\n",
            "32033\n"
          ]
        }
      ]
    },
    {
      "cell_type": "code",
      "source": [
        "# extract vocabulary -> chars in dataset\n",
        "# words (names) -> join -> set -> list -> sort\n",
        "chars = sorted(list(set(''.join(words))))\n",
        "# create dict: str -> int\n",
        "stoi = {'.': 0}\n",
        "stoi.update({s: i+1 for i, s in enumerate(chars)})\n",
        "print('stoi: ', stoi)\n",
        "SZ = len(stoi)\n",
        "print(SZ)\n",
        "# create dict: int -> str\n",
        "itos = {i: s for s, i in stoi.items()}\n",
        "print('itos: ', itos)"
      ],
      "metadata": {
        "colab": {
          "base_uri": "https://localhost:8080/"
        },
        "id": "1BdAZpsHA6TA",
        "outputId": "6f3ae724-5734-4875-b79d-16e9ad83f79f"
      },
      "execution_count": 4,
      "outputs": [
        {
          "output_type": "stream",
          "name": "stdout",
          "text": [
            "stoi:  {'.': 0, 'a': 1, 'b': 2, 'c': 3, 'd': 4, 'e': 5, 'f': 6, 'g': 7, 'h': 8, 'i': 9, 'j': 10, 'k': 11, 'l': 12, 'm': 13, 'n': 14, 'o': 15, 'p': 16, 'q': 17, 'r': 18, 's': 19, 't': 20, 'u': 21, 'v': 22, 'w': 23, 'x': 24, 'y': 25, 'z': 26}\n",
            "27\n",
            "itos:  {0: '.', 1: 'a', 2: 'b', 3: 'c', 4: 'd', 5: 'e', 6: 'f', 7: 'g', 8: 'h', 9: 'i', 10: 'j', 11: 'k', 12: 'l', 13: 'm', 14: 'n', 15: 'o', 16: 'p', 17: 'q', 18: 'r', 19: 's', 20: 't', 21: 'u', 22: 'v', 23: 'w', 24: 'x', 25: 'y', 26: 'z'}\n"
          ]
        }
      ]
    },
    {
      "cell_type": "code",
      "source": [
        "# build the dataset\n",
        "block_sz = 5  # context size\n",
        "def build_dataset(words):\n",
        "  X, y = [], []\n",
        "  for w in words:\n",
        "    # print(w)\n",
        "    context = [0] * block_sz\n",
        "    for c in w + '.':\n",
        "      ix = stoi[c]\n",
        "      X.append(context)\n",
        "      y.append(ix)\n",
        "      # print(''.join(itos[i] for i in context), ' -----> ', itos[ix])\n",
        "      context = context[1:] + [ix]  # slide the context by 1 char to right\n",
        "  X = torch.tensor(X)\n",
        "  y = torch.tensor(y)\n",
        "  print(X.shape, X.dtype, y.shape, y.dtype)\n",
        "  return X, y\n",
        "\n",
        "# train (train model params), validation/dev (train hyperparams), test splits (use only a few times)\n",
        "# 80%, 10%, 10%\n",
        "import random\n",
        "random.seed(42)\n",
        "shuffled_words = words.copy()  # create a copy to be repeatable\n",
        "random.shuffle(shuffled_words)\n",
        "n1 = int(0.8*len(shuffled_words))\n",
        "n2 = int(0.9*len(shuffled_words))\n",
        "Xtr, ytr = build_dataset(shuffled_words[:n1])\n",
        "Xdev, ydev = build_dataset(shuffled_words[n1:n2])\n",
        "Xte, yte = build_dataset(shuffled_words[n2:])"
      ],
      "metadata": {
        "colab": {
          "base_uri": "https://localhost:8080/"
        },
        "id": "0kagHPpFpNRs",
        "outputId": "c886c4c4-2a6a-4a12-f516-787887d65a12"
      },
      "execution_count": 6,
      "outputs": [
        {
          "output_type": "stream",
          "name": "stdout",
          "text": [
            "torch.Size([182625, 5]) torch.int64 torch.Size([182625]) torch.int64\n",
            "torch.Size([22655, 5]) torch.int64 torch.Size([22655]) torch.int64\n",
            "torch.Size([22866, 5]) torch.int64 torch.Size([22866]) torch.int64\n"
          ]
        }
      ]
    },
    {
      "cell_type": "code",
      "source": [
        "# embeddings - embed 27 chars (vocabulary) in 2-dimensional space\n",
        "C = torch.randn((SZ, 2))\n",
        "print(C.shape)\n",
        "C[:2]"
      ],
      "metadata": {
        "colab": {
          "base_uri": "https://localhost:8080/"
        },
        "id": "96zmWcyd3_2B",
        "outputId": "ad370ceb-5f07-4176-d632-aae1c9e92624"
      },
      "execution_count": 7,
      "outputs": [
        {
          "output_type": "stream",
          "name": "stdout",
          "text": [
            "torch.Size([27, 2])\n"
          ]
        },
        {
          "output_type": "execute_result",
          "data": {
            "text/plain": [
              "tensor([[ 1.5674, -0.2373],\n",
              "        [-0.0274, -1.1008]])"
            ]
          },
          "metadata": {},
          "execution_count": 7
        }
      ]
    },
    {
      "cell_type": "code",
      "source": [
        "# Example - how to embed an integer into 27x2 dimensional tensor?\n",
        "num = 1\n",
        "# method 1 - just index C\n",
        "print(C[num])  # simpler, faster, preferred way\n",
        "# method 2\n",
        "oh = F.one_hot(torch.tensor(num), num_classes=SZ).float()\n",
        "print(oh)\n",
        "print(oh @ C)\n",
        "\n",
        "# more examples\n",
        "print(C[[0, 1, 2]])\n",
        "print(C[torch.tensor([0, 1, 2])])"
      ],
      "metadata": {
        "colab": {
          "base_uri": "https://localhost:8080/"
        },
        "id": "ApJENTVFEc69",
        "outputId": "bd6787df-81ad-4129-c8d0-ade6292345d0"
      },
      "execution_count": 8,
      "outputs": [
        {
          "output_type": "stream",
          "name": "stdout",
          "text": [
            "tensor([-0.0274, -1.1008])\n",
            "tensor([0., 1., 0., 0., 0., 0., 0., 0., 0., 0., 0., 0., 0., 0., 0., 0., 0., 0.,\n",
            "        0., 0., 0., 0., 0., 0., 0., 0., 0.])\n",
            "tensor([-0.0274, -1.1008])\n",
            "tensor([[ 1.5674, -0.2373],\n",
            "        [-0.0274, -1.1008],\n",
            "        [ 0.2859, -0.0296]])\n",
            "tensor([[ 1.5674, -0.2373],\n",
            "        [-0.0274, -1.1008],\n",
            "        [ 0.2859, -0.0296]])\n"
          ]
        }
      ]
    },
    {
      "cell_type": "code",
      "source": [
        "# examples of pytorch indexing\n",
        "print(C[Xtr].shape)\n",
        "print(Xtr[13], Xtr[13,2])\n",
        "print(C[Xtr][13,2])\n",
        "print(C[1])"
      ],
      "metadata": {
        "colab": {
          "base_uri": "https://localhost:8080/"
        },
        "id": "oi8vP2FnGZ9Y",
        "outputId": "31996fc5-bda8-43f3-f127-8f502533d60e"
      },
      "execution_count": 9,
      "outputs": [
        {
          "output_type": "stream",
          "name": "stdout",
          "text": [
            "torch.Size([182625, 5, 2])\n",
            "tensor([ 9, 15, 14,  4, 18]) tensor(14)\n",
            "tensor([-1.2199,  0.3031])\n",
            "tensor([-0.0274, -1.1008])\n"
          ]
        }
      ]
    },
    {
      "cell_type": "code",
      "source": [
        "# embed the input\n",
        "emb = C[Xtr]\n",
        "print(C.shape)\n",
        "print(Xtr.shape)\n",
        "print(emb.shape)"
      ],
      "metadata": {
        "colab": {
          "base_uri": "https://localhost:8080/"
        },
        "id": "m2S5by4oLbZm",
        "outputId": "5d9a8311-6f79-4635-98ae-7cc715076a3e"
      },
      "execution_count": 10,
      "outputs": [
        {
          "output_type": "stream",
          "name": "stdout",
          "text": [
            "torch.Size([27, 2])\n",
            "torch.Size([182625, 5])\n",
            "torch.Size([182625, 5, 2])\n"
          ]
        }
      ]
    },
    {
      "cell_type": "code",
      "source": [
        "# hidden layer\n",
        "num_neurons = 100\n",
        "W1 = torch.randn((block_sz * 2, num_neurons))  # 6 = 3x2, block_sz=3, 2-dimensional embedding\n",
        "b1 = torch.randn(num_neurons)"
      ],
      "metadata": {
        "id": "4RSPnBsSLxe2"
      },
      "execution_count": 15,
      "outputs": []
    },
    {
      "cell_type": "code",
      "source": [
        "# the following will error out\n",
        "# emb @ W1 + b1  # RuntimeError: mat1 and mat2 shapes cannot be multiplied (96x2 and 6x100)\n",
        "# need to transform 32x3x2 --> 32x6\n",
        "# examples of transformations -->\n",
        "a = torch.arange(6)\n",
        "print(a)\n",
        "print(a.shape)\n",
        "print(a.view((2,3)))\n",
        "print(a.view((3,2)))\n",
        "h = torch.tanh(emb.view(-1, block_sz * 2) @ W1 + b1)\n",
        "h.shape\n",
        "# broadcasting\n",
        "# emb @ W1: 32x100\n",
        "# b1      :    100\n",
        "#         :  1x100"
      ],
      "metadata": {
        "colab": {
          "base_uri": "https://localhost:8080/"
        },
        "id": "pTgOO5k1Rozj",
        "outputId": "580e6ef5-69f8-4739-cb64-60549578e934"
      },
      "execution_count": 17,
      "outputs": [
        {
          "output_type": "stream",
          "name": "stdout",
          "text": [
            "tensor([0, 1, 2, 3, 4, 5])\n",
            "torch.Size([6])\n",
            "tensor([[0, 1, 2],\n",
            "        [3, 4, 5]])\n",
            "tensor([[0, 1],\n",
            "        [2, 3],\n",
            "        [4, 5]])\n"
          ]
        },
        {
          "output_type": "execute_result",
          "data": {
            "text/plain": [
              "torch.Size([182625, 100])"
            ]
          },
          "metadata": {},
          "execution_count": 17
        }
      ]
    },
    {
      "cell_type": "code",
      "source": [
        "# final layer\n",
        "W2 = torch.randn((num_neurons, SZ))  # 100x27\n",
        "b2 = torch.randn(SZ)\n",
        "logits = h @ W2 + b2\n",
        "print(logits.shape)\n",
        "counts = logits.exp()\n",
        "prob = counts / counts.sum(1, keepdims=True)\n",
        "print(prob.shape)\n",
        "print(prob[0].sum())  # must be normalized i.e. sum must be 1\n",
        "loss = -prob[torch.arange(prob.shape[0]), ytr].log().mean()\n",
        "print(loss)"
      ],
      "metadata": {
        "colab": {
          "base_uri": "https://localhost:8080/"
        },
        "id": "B8caskZyRxKx",
        "outputId": "5c3bbbbe-fa51-4ed6-924e-24cfd1647c1c"
      },
      "execution_count": 18,
      "outputs": [
        {
          "output_type": "stream",
          "name": "stdout",
          "text": [
            "torch.Size([182625, 27])\n",
            "torch.Size([182625, 27])\n",
            "tensor(1.)\n",
            "tensor(19.6908)\n"
          ]
        }
      ]
    },
    {
      "cell_type": "code",
      "source": [
        "# cross_entropy\n",
        "counts = logits.exp()\n",
        "prob = counts / counts.sum(1, keepdims=True)\n",
        "loss = -prob[torch.arange(prob.shape[0]), ytr].log().mean()\n",
        "print(loss)\n",
        "# preferred way to calculate loss --> cross_entropy\n",
        "#   forward pass more efficient\n",
        "#   backward pass more efficient\n",
        "#   things much more well behaved\n",
        "loss = F.cross_entropy(logits, ytr)\n",
        "print(loss)"
      ],
      "metadata": {
        "colab": {
          "base_uri": "https://localhost:8080/"
        },
        "id": "HlTNHu9fGazf",
        "outputId": "27ffe42e-3158-40c9-b7b1-be65407b418d"
      },
      "execution_count": 19,
      "outputs": [
        {
          "output_type": "stream",
          "name": "stdout",
          "text": [
            "tensor(19.6908)\n",
            "tensor(19.6908)\n"
          ]
        }
      ]
    },
    {
      "cell_type": "code",
      "source": [
        "# puts everything together\n",
        "Xtr.shape, ytr.shape"
      ],
      "metadata": {
        "colab": {
          "base_uri": "https://localhost:8080/"
        },
        "id": "bqaRyRAVXQ-P",
        "outputId": "af11a702-d629-4212-f295-86b53de71b6f"
      },
      "execution_count": 20,
      "outputs": [
        {
          "output_type": "execute_result",
          "data": {
            "text/plain": [
              "(torch.Size([182625, 5]), torch.Size([182625]))"
            ]
          },
          "metadata": {},
          "execution_count": 20
        }
      ]
    },
    {
      "cell_type": "code",
      "source": [
        "print(block_sz)\n",
        "g = torch.Generator().manual_seed(2147483647)\n",
        "emb_dim = 10  # embedding dimensions\n",
        "C = torch.randn((SZ, emb_dim), generator=g)\n",
        "num_neurons = 200\n",
        "W1 = torch.randn((block_sz * emb_dim, num_neurons), generator=g)\n",
        "b1 = torch.randn(num_neurons, generator=g)\n",
        "W2 = torch.randn((num_neurons, SZ), generator=g)\n",
        "b2 = torch.randn(SZ, generator=g)\n",
        "params = [C, W1, b1, W2, b2]\n",
        "nparams = sum(p.nelement() for p in params)\n",
        "print(nparams)"
      ],
      "metadata": {
        "colab": {
          "base_uri": "https://localhost:8080/"
        },
        "id": "Gzk1gTW6gcgj",
        "outputId": "20faf4fc-2c94-4971-b101-de0a17ed0a04"
      },
      "execution_count": 21,
      "outputs": [
        {
          "output_type": "stream",
          "name": "stdout",
          "text": [
            "5\n",
            "15897\n"
          ]
        }
      ]
    },
    {
      "cell_type": "code",
      "source": [
        "for p in params:\n",
        "  # tells PyTorch to calculate gradients of loss w.r.t. these params during backward pass of training\n",
        "  p.requires_grad = True"
      ],
      "metadata": {
        "id": "K5MG4UFknxSK"
      },
      "execution_count": 22,
      "outputs": []
    },
    {
      "cell_type": "code",
      "source": [
        "# find a good learning rate\n",
        "#   find a good range, say (0.001 - 1)\n",
        "#   traverse this range in the exponential space\n",
        "#   plot loss vs learning rate\n",
        "#     find minima (best learning rate) on the plot\n",
        "#       e.g. 0.1\n",
        "#   train at this learning rate until loss doesn't improve\n",
        "#   decrease loss by a factor of 10, train some more\n",
        "lre = torch.linspace(-3, 0, 1000)\n",
        "lrs = 10**lre  # between 0.001 & 1"
      ],
      "metadata": {
        "id": "G5MOYLyvMorw"
      },
      "execution_count": 23,
      "outputs": []
    },
    {
      "cell_type": "code",
      "source": [
        "# ways to improve neural net performance\n",
        "# increase #neurons\n",
        "# increase embedding dimensions"
      ],
      "metadata": {
        "id": "sRzfB4RDpxrc"
      },
      "execution_count": 24,
      "outputs": []
    },
    {
      "cell_type": "code",
      "source": [
        "lri = []\n",
        "lossi = []\n",
        "stepi = []"
      ],
      "metadata": {
        "id": "2SqZx7wYW7dn"
      },
      "execution_count": 25,
      "outputs": []
    },
    {
      "cell_type": "code",
      "source": [
        "# model training loop for MLP\n",
        "# hyperparams:\n",
        "#   batch_sz, block_sz, emb_dim, num_neurons, learning rate\n",
        "batch_sz = 32\n",
        "for i in range(200000):\n",
        "  # minibatch construct\n",
        "  ix = torch.randint(0, Xtr.shape[0], (batch_sz,))\n",
        "\n",
        "  # forward pass\n",
        "  emb = C[Xtr[ix]]\n",
        "  h = torch.tanh(emb.view(-1, block_sz * emb_dim) @ W1 + b1)\n",
        "  logits = h @ W2 + b2\n",
        "  loss = F.cross_entropy(logits, ytr[ix])\n",
        "  # print(loss.item())\n",
        "\n",
        "  # backward pass\n",
        "  for p in params:\n",
        "    p.grad = None\n",
        "  loss.backward()\n",
        "\n",
        "  # update params\n",
        "  # lr = lrs[i]\n",
        "  # lr = 0.1\n",
        "  # lr = 0.05\n",
        "  # lr = 0.01\n",
        "  lr = 0.1 if i < 100000 else 0.01\n",
        "  for p in params:\n",
        "    p.data += -lr * p.grad\n",
        "\n",
        "  # track stats\n",
        "  # lri.append(lre[i])\n",
        "  stepi.append(i)\n",
        "  lossi.append(loss.log10().item())\n",
        "#print(loss.item())"
      ],
      "metadata": {
        "id": "YxJtUhbghQk6"
      },
      "execution_count": 26,
      "outputs": []
    },
    {
      "cell_type": "code",
      "source": [
        "plt.plot(stepi, lossi)"
      ],
      "metadata": {
        "colab": {
          "base_uri": "https://localhost:8080/",
          "height": 447
        },
        "id": "OnDOKDOhjy6E",
        "outputId": "01299397-4d97-47ac-e5ee-5a18c24a376b"
      },
      "execution_count": 27,
      "outputs": [
        {
          "output_type": "execute_result",
          "data": {
            "text/plain": [
              "[<matplotlib.lines.Line2D at 0x7cbeefe84ed0>]"
            ]
          },
          "metadata": {},
          "execution_count": 27
        },
        {
          "output_type": "display_data",
          "data": {
            "text/plain": [
              "<Figure size 640x480 with 1 Axes>"
            ],
            "image/png": "[encoded data removed]"
          },
          "metadata": {}
        }
      ]
    },
    {
      "cell_type": "code",
      "source": [
        "# execute 1 forward pass on training set\n",
        "emb = C[Xtr]\n",
        "h = torch.tanh(emb.view(-1, block_sz * emb_dim) @ W1 + b1)\n",
        "logits = h @ W2 + b2\n",
        "loss = F.cross_entropy(logits, ytr)\n",
        "print(loss)"
      ],
      "metadata": {
        "colab": {
          "base_uri": "https://localhost:8080/"
        },
        "id": "DTzUxtD8mjyF",
        "outputId": "d26bc54c-5921-4779-dd26-4b88e88a556c"
      },
      "execution_count": 28,
      "outputs": [
        {
          "output_type": "stream",
          "name": "stdout",
          "text": [
            "tensor(2.1886, grad_fn=<NllLossBackward0>)\n"
          ]
        }
      ]
    },
    {
      "cell_type": "code",
      "source": [
        "# execute 1 forward pass on test set\n",
        "emb = C[Xdev]\n",
        "h = torch.tanh(emb.view(-1, block_sz * emb_dim) @ W1 + b1)\n",
        "logits = h @ W2 + b2\n",
        "loss = F.cross_entropy(logits, ydev)\n",
        "print(loss)"
      ],
      "metadata": {
        "colab": {
          "base_uri": "https://localhost:8080/"
        },
        "id": "IrlmuhdGPxVp",
        "outputId": "0ab4c30c-c32f-4c0e-e25e-ad7af6d17515"
      },
      "execution_count": 29,
      "outputs": [
        {
          "output_type": "stream",
          "name": "stdout",
          "text": [
            "tensor(2.2054, grad_fn=<NllLossBackward0>)\n"
          ]
        }
      ]
    },
    {
      "cell_type": "code",
      "source": [
        "# this plot makes sense for 2-dimensional embeddings\n",
        "plt.figure(figsize=(8, 8))\n",
        "plt.scatter(C[:, 0].data, C[:, 1].data, s=200)  # x/y coordinates for 2-dimensional embeddings\n",
        "for i in range(C.shape[0]):\n",
        "  plt.text(C[i, 0].item(), C[i, 1].item(), itos[i], ha='center', va='center', color='white')\n",
        "plt.grid('minor')"
      ],
      "metadata": {
        "colab": {
          "base_uri": "https://localhost:8080/",
          "height": 681
        },
        "id": "V768ZXw0RSW-",
        "outputId": "94693453-613a-414e-efd2-0dfdbe33db48"
      },
      "execution_count": 30,
      "outputs": [
        {
          "output_type": "display_data",
          "data": {
            "text/plain": [
              "<Figure size 800x800 with 1 Axes>"
            ],
            "image/png": "[encoded data removed]"
          },
          "metadata": {}
        }
      ]
    },
    {
      "cell_type": "code",
      "source": [
        "# sample from the model\n",
        "g = torch.Generator().manual_seed(2147483647 + 10)\n",
        "for _ in range(20):\n",
        "  out = []\n",
        "  context = [0] * block_sz\n",
        "  while True:\n",
        "    emb = C[torch.tensor([context])]\n",
        "    h = torch.tanh(emb.view(1, -1) @ W1 + b1)\n",
        "    logits = h @ W2 + b2\n",
        "    probs = F.softmax(logits, dim=1)  # exponentiate & sum to 1\n",
        "    ix = torch.multinomial(probs, num_samples=1, generator=g).item()\n",
        "    context = context[1:] + [ix]\n",
        "    out.append(ix)\n",
        "    if ix == 0:\n",
        "      break\n",
        "  print(''.join(itos[i] for i in out))"
      ],
      "metadata": {
        "id": "Nb6Q8XwCqhnf",
        "colab": {
          "base_uri": "https://localhost:8080/"
        },
        "outputId": "47762ee7-ea5d-4289-dd48-174afc616406"
      },
      "execution_count": 31,
      "outputs": [
        {
          "output_type": "stream",
          "name": "stdout",
          "text": [
            "moraah.\n",
            "yazziee.\n",
            "medhah.\n",
            "lorensa.\n",
            "jendrlee.\n",
            "azered.\n",
            "eliileyghap.\n",
            "leiel.\n",
            "sanana.\n",
            "selly.\n",
            "malara.\n",
            "noshig.\n",
            "rilhiga.\n",
            "stile.\n",
            "renelle.\n",
            "nocula.\n",
            "ubelynd.\n",
            "ryyshuf.\n",
            "ehsyl.\n",
            "ashiston.\n"
          ]
        }
      ]
    },
    {
      "cell_type": "code",
      "source": [],
      "metadata": {
        "id": "lhgHiPsuMMHX"
      },
      "execution_count": null,
      "outputs": []
    }
  ]
}