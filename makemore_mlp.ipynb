{
  "nbformat": 4,
  "nbformat_minor": 0,
  "metadata": {
    "colab": {
      "provenance": [],
      "authorship_tag": "ABX9TyPJcME3ZLZjR82rdtN5lSuR",
      "include_colab_link": true
    },
    "kernelspec": {
      "name": "python3",
      "display_name": "Python 3"
    },
    "language_info": {
      "name": "python"
    }
  },
  "cells": [
    {
      "cell_type": "markdown",
      "metadata": {
        "id": "view-in-github",
        "colab_type": "text"
      },
      "source": [
        "<a href=\"https://colab.research.google.com/github/ameyaa/makemore/blob/main/makemore_mlp.ipynb\" target=\"_parent\"><img src=\"https://colab.research.google.com/assets/colab-badge.svg\" alt=\"Open In Colab\"/></a>"
      ]
    },
    {
      "cell_type": "code",
      "execution_count": 1,
      "metadata": {
        "id": "KhV62VeWlEXZ"
      },
      "outputs": [],
      "source": [
        "import torch\n",
        "import torch.nn.functional as F\n",
        "import matplotlib.pyplot as plt\n",
        "%matplotlib inline"
      ]
    },
    {
      "cell_type": "code",
      "source": [
        "words = open('names.txt', 'r').read().splitlines()\n",
        "print(words[:5])\n",
        "print(len(words))"
      ],
      "metadata": {
        "colab": {
          "base_uri": "https://localhost:8080/"
        },
        "id": "nIH-7xZ8mo-M",
        "outputId": "c76859c9-4815-4659-a911-5dc11a03f1ac"
      },
      "execution_count": 2,
      "outputs": [
        {
          "output_type": "stream",
          "name": "stdout",
          "text": [
            "['emma', 'olivia', 'ava', 'isabella', 'sophia']\n",
            "32033\n"
          ]
        }
      ]
    },
    {
      "cell_type": "code",
      "source": [
        "# vocabulary of chars in dataset and mapping to/from integers\n",
        "chars = sorted(list(set(''.join(words))))\n",
        "stoi = {c:i+1 for i, c in enumerate(chars)}\n",
        "stoi['.'] = 0\n",
        "SZ = len(stoi)\n",
        "itos = {i:c for c, i in stoi.items()}\n",
        "print(itos)\n",
        "print('SZ: ', SZ)"
      ],
      "metadata": {
        "colab": {
          "base_uri": "https://localhost:8080/"
        },
        "id": "wR3voeWhmyE5",
        "outputId": "9a6bd2fe-de85-4c8a-9d95-8fa2b5744f94"
      },
      "execution_count": 3,
      "outputs": [
        {
          "output_type": "stream",
          "name": "stdout",
          "text": [
            "{1: 'a', 2: 'b', 3: 'c', 4: 'd', 5: 'e', 6: 'f', 7: 'g', 8: 'h', 9: 'i', 10: 'j', 11: 'k', 12: 'l', 13: 'm', 14: 'n', 15: 'o', 16: 'p', 17: 'q', 18: 'r', 19: 's', 20: 't', 21: 'u', 22: 'v', 23: 'w', 24: 'x', 25: 'y', 26: 'z', 0: '.'}\n",
            "SZ:  27\n"
          ]
        }
      ]
    },
    {
      "cell_type": "code",
      "source": [
        "# build the dataset\n",
        "block_sz = 3\n",
        "X, Y = [], []\n",
        "for w in words[:5]:\n",
        "  #print(w)\n",
        "  context = [0] * block_sz\n",
        "  for c in w + '.':\n",
        "    ix = stoi[c]\n",
        "    X.append(context)\n",
        "    Y.append(ix)\n",
        "    #print(''.join(itos[i] for i in context), '----->', itos[ix])\n",
        "    context = context[1:] + [ix]\n",
        "\n",
        "X = torch.tensor(X)\n",
        "Y = torch.tensor(Y)"
      ],
      "metadata": {
        "id": "L5cK5z4W-5NK"
      },
      "execution_count": 28,
      "outputs": []
    },
    {
      "cell_type": "code",
      "source": [
        "X.shape, X.dtype, Y.shape, Y.dtype"
      ],
      "metadata": {
        "colab": {
          "base_uri": "https://localhost:8080/"
        },
        "id": "uOl0XY9Lu7Rh",
        "outputId": "131f89d7-9c6a-4103-c193-d3971a46714f"
      },
      "execution_count": 6,
      "outputs": [
        {
          "output_type": "execute_result",
          "data": {
            "text/plain": [
              "(torch.Size([32, 3]), torch.int64, torch.Size([32]), torch.int64)"
            ]
          },
          "metadata": {},
          "execution_count": 6
        }
      ]
    },
    {
      "cell_type": "code",
      "source": [
        "# embeddings - embed 27 possible chars into 2-dimensional space\n",
        "C = torch.randn((SZ, 2))  # aka lookup table\n",
        "C"
      ],
      "metadata": {
        "colab": {
          "base_uri": "https://localhost:8080/"
        },
        "id": "CYw9XH1r-QNH",
        "outputId": "d8244be2-8d9c-488f-d557-229844cbce97"
      },
      "execution_count": 7,
      "outputs": [
        {
          "output_type": "execute_result",
          "data": {
            "text/plain": [
              "tensor([[ 2.5818,  0.7043],\n",
              "        [ 1.1413,  1.7492],\n",
              "        [ 0.2720,  0.7449],\n",
              "        [ 0.8358,  0.5823],\n",
              "        [ 0.3671,  0.2646],\n",
              "        [-0.2085, -0.5919],\n",
              "        [ 2.4613, -0.0389],\n",
              "        [ 0.1049, -0.3816],\n",
              "        [ 0.7340,  0.5385],\n",
              "        [-0.6747,  0.3571],\n",
              "        [ 0.0959,  1.5440],\n",
              "        [-1.0823,  1.1823],\n",
              "        [-1.0089,  1.0433],\n",
              "        [-1.4333,  0.9344],\n",
              "        [-0.5669, -0.2335],\n",
              "        [ 0.6501,  0.7354],\n",
              "        [-1.4235,  2.5106],\n",
              "        [ 1.2518,  0.6631],\n",
              "        [-0.8436, -0.5613],\n",
              "        [-0.1764,  0.7845],\n",
              "        [-0.2700, -0.0468],\n",
              "        [ 0.3697,  1.1647],\n",
              "        [ 0.1408, -0.4262],\n",
              "        [ 1.6436,  1.6997],\n",
              "        [ 2.0265,  0.6387],\n",
              "        [ 0.2634,  0.4009],\n",
              "        [-0.3915,  0.1857]])"
            ]
          },
          "metadata": {},
          "execution_count": 7
        }
      ]
    },
    {
      "cell_type": "code",
      "source": [
        "# Example - how to embed an integer 5 into 27 x 2 dimensional tensor\n",
        "print(C[5])  # method 1 - simpler/faster/preferred\n",
        "# method 2 - dot product\n",
        "oh = F.one_hot(torch.tensor(5), num_classes=SZ).float()\n",
        "print(oh)\n",
        "oh @ C"
      ],
      "metadata": {
        "colab": {
          "base_uri": "https://localhost:8080/"
        },
        "id": "epYuwAyL_Fv_",
        "outputId": "a1012ab3-5022-4068-8efd-56affa2e4997"
      },
      "execution_count": 8,
      "outputs": [
        {
          "output_type": "stream",
          "name": "stdout",
          "text": [
            "tensor([-0.2085, -0.5919])\n",
            "tensor([0., 0., 0., 0., 0., 1., 0., 0., 0., 0., 0., 0., 0., 0., 0., 0., 0., 0.,\n",
            "        0., 0., 0., 0., 0., 0., 0., 0., 0.])\n"
          ]
        },
        {
          "output_type": "execute_result",
          "data": {
            "text/plain": [
              "tensor([-0.2085, -0.5919])"
            ]
          },
          "metadata": {},
          "execution_count": 8
        }
      ]
    },
    {
      "cell_type": "code",
      "source": [
        "# how to embed X in C --> just do C[X]\n",
        "print('C shape: ', C.shape)\n",
        "print('X shape: ', X.shape)\n",
        "print('C[X] shape: ', C[X].shape)\n",
        "print(X[13])\n",
        "print(X[13,2])\n",
        "print(C[X][13])\n",
        "print(C[X][13,2])"
      ],
      "metadata": {
        "colab": {
          "base_uri": "https://localhost:8080/"
        },
        "id": "KKPp_Io6_-9a",
        "outputId": "7fdd3939-a4f2-4dcd-cfa4-c78f83a44a1c"
      },
      "execution_count": 9,
      "outputs": [
        {
          "output_type": "stream",
          "name": "stdout",
          "text": [
            "C shape:  torch.Size([27, 2])\n",
            "X shape:  torch.Size([32, 3])\n",
            "C[X] shape:  torch.Size([32, 3, 2])\n",
            "tensor([0, 0, 1])\n",
            "tensor(1)\n",
            "tensor([[2.5818, 0.7043],\n",
            "        [2.5818, 0.7043],\n",
            "        [1.1413, 1.7492]])\n",
            "tensor([1.1413, 1.7492])\n"
          ]
        }
      ]
    },
    {
      "cell_type": "code",
      "source": [
        "# embed input X into C\n",
        "emb = C[X]\n",
        "emb.shape"
      ],
      "metadata": {
        "colab": {
          "base_uri": "https://localhost:8080/"
        },
        "id": "HjY80PylrDk0",
        "outputId": "58935e57-7b80-44c9-c731-00dc0b2ac9be"
      },
      "execution_count": 10,
      "outputs": [
        {
          "output_type": "execute_result",
          "data": {
            "text/plain": [
              "torch.Size([32, 3, 2])"
            ]
          },
          "metadata": {},
          "execution_count": 10
        }
      ]
    },
    {
      "cell_type": "code",
      "source": [
        "# layer 2 - hidden activation layer\n",
        "# inputs to hidden layer: 3 x 2 = 6 (2-dimensional embedding and 3 of them)\n",
        "num_neurons = 100\n",
        "W1 = torch.randn((6, num_neurons))\n",
        "b1 = torch.randn(num_neurons)"
      ],
      "metadata": {
        "id": "ET9eDGVBrob6"
      },
      "execution_count": 11,
      "outputs": []
    },
    {
      "cell_type": "code",
      "source": [
        "# The following is what we want to do\n",
        "emb @ W1 + b1\n",
        "# But it will error out since  emb (32 x 3 x 2) and W1 (6 x 100) are not compatible"
      ],
      "metadata": {
        "colab": {
          "base_uri": "https://localhost:8080/",
          "height": 176
        },
        "id": "ffjS9_hcr9ti",
        "outputId": "32c63a30-f921-4f2c-a0d0-1ae05e8c76e4"
      },
      "execution_count": 12,
      "outputs": [
        {
          "output_type": "error",
          "ename": "RuntimeError",
          "evalue": "mat1 and mat2 shapes cannot be multiplied (96x2 and 6x100)",
          "traceback": [
            "\u001b[0;31m---------------------------------------------------------------------------\u001b[0m",
            "\u001b[0;31mRuntimeError\u001b[0m                              Traceback (most recent call last)",
            "\u001b[0;32m<ipython-input-12-91a690890f3b>\u001b[0m in \u001b[0;36m<cell line: 0>\u001b[0;34m()\u001b[0m\n\u001b[1;32m      1\u001b[0m \u001b[0;31m# The following is what we want to do\u001b[0m\u001b[0;34m\u001b[0m\u001b[0;34m\u001b[0m\u001b[0m\n\u001b[0;32m----> 2\u001b[0;31m \u001b[0memb\u001b[0m \u001b[0;34m@\u001b[0m \u001b[0mW1\u001b[0m \u001b[0;34m+\u001b[0m \u001b[0mb1\u001b[0m\u001b[0;34m\u001b[0m\u001b[0;34m\u001b[0m\u001b[0m\n\u001b[0m\u001b[1;32m      3\u001b[0m \u001b[0;31m# But it will error out since  emb (32 x 3 x 2) and W1 (6 x 100) are not compatible\u001b[0m\u001b[0;34m\u001b[0m\u001b[0;34m\u001b[0m\u001b[0m\n",
            "\u001b[0;31mRuntimeError\u001b[0m: mat1 and mat2 shapes cannot be multiplied (96x2 and 6x100)"
          ]
        }
      ]
    },
    {
      "cell_type": "code",
      "source": [
        "# To fix the above error, we need to concatenate the (3 x 2 = 6 ) entries --> 32 x 3 x 2 --> 32 x 6\n",
        "print(emb[:, 0, :].shape)\n",
        "torch.cat((emb[:, 0, :], emb[:, 1, :], emb[:, 2, :]), 1).shape\n",
        "# Above code assumes block_size of 3 (0, 1, 2), so won't work if we change block_size"
      ],
      "metadata": {
        "colab": {
          "base_uri": "https://localhost:8080/"
        },
        "id": "UalxM7CquILj",
        "outputId": "765b6d77-090a-4f21-c720-335892b08041"
      },
      "execution_count": 13,
      "outputs": [
        {
          "output_type": "stream",
          "name": "stdout",
          "text": [
            "torch.Size([32, 2])\n"
          ]
        },
        {
          "output_type": "execute_result",
          "data": {
            "text/plain": [
              "torch.Size([32, 6])"
            ]
          },
          "metadata": {},
          "execution_count": 13
        }
      ]
    },
    {
      "cell_type": "code",
      "source": [
        "# Use unbind to fix above issue\n",
        "# The following code is independent of block_size\n",
        "ub = torch.unbind(emb, 1)\n",
        "print(len(ub))\n",
        "for i in range(len(ub)):\n",
        "  print(ub[i].shape)\n",
        "torch.cat(ub, 1).shape"
      ],
      "metadata": {
        "id": "uQ18JAge0dK8",
        "colab": {
          "base_uri": "https://localhost:8080/"
        },
        "outputId": "1ad499c0-e5f4-4a5d-adf7-f5a0293c8085"
      },
      "execution_count": 14,
      "outputs": [
        {
          "output_type": "stream",
          "name": "stdout",
          "text": [
            "3\n",
            "torch.Size([32, 2])\n",
            "torch.Size([32, 2])\n",
            "torch.Size([32, 2])\n"
          ]
        },
        {
          "output_type": "execute_result",
          "data": {
            "text/plain": [
              "torch.Size([32, 6])"
            ]
          },
          "metadata": {},
          "execution_count": 14
        }
      ]
    },
    {
      "cell_type": "code",
      "source": [
        "# Alternative to unbind\n",
        "a = torch.arange(6)\n",
        "print(a)\n",
        "print(a.view(3, 2))\n",
        "print(a.view(2, 3))\n",
        "# View doesn't reallocate new memory, but merely changes how the tensor is 'viewed'\n",
        "print(emb.shape)\n",
        "emb.view(32, 6).shape"
      ],
      "metadata": {
        "colab": {
          "base_uri": "https://localhost:8080/"
        },
        "id": "hNciF2d8LKPb",
        "outputId": "9f00dec6-f1c3-4969-e851-01ed41765f8a"
      },
      "execution_count": 15,
      "outputs": [
        {
          "output_type": "stream",
          "name": "stdout",
          "text": [
            "tensor([0, 1, 2, 3, 4, 5])\n",
            "tensor([[0, 1],\n",
            "        [2, 3],\n",
            "        [4, 5]])\n",
            "tensor([[0, 1, 2],\n",
            "        [3, 4, 5]])\n",
            "torch.Size([32, 3, 2])\n"
          ]
        },
        {
          "output_type": "execute_result",
          "data": {
            "text/plain": [
              "torch.Size([32, 6])"
            ]
          },
          "metadata": {},
          "execution_count": 15
        }
      ]
    },
    {
      "cell_type": "code",
      "source": [
        "# Using .view instead of unbind\n",
        "h = emb.view(emb.shape[0], emb.shape[1]*emb.shape[2]) @ W1 + b1\n",
        "print(h.shape)\n",
        "h"
      ],
      "metadata": {
        "colab": {
          "base_uri": "https://localhost:8080/"
        },
        "id": "ETwMd0J-WSXb",
        "outputId": "66dc5497-ee50-4841-c072-1861e2d7d0bc"
      },
      "execution_count": 16,
      "outputs": [
        {
          "output_type": "stream",
          "name": "stdout",
          "text": [
            "torch.Size([32, 100])\n"
          ]
        },
        {
          "output_type": "execute_result",
          "data": {
            "text/plain": [
              "tensor([[ 4.0123, -5.3781, -0.6281,  ...,  2.5347, -3.0528, -3.2458],\n",
              "        [ 0.2079,  3.6088,  0.2534,  ...,  1.1857, -5.7334, -6.4016],\n",
              "        [-1.6016,  1.6077, -4.1203,  ...,  0.3566,  1.4085, -4.7458],\n",
              "        ...,\n",
              "        [ 1.0752, -8.1031, -2.0179,  ...,  0.2810, -0.2862, -1.2383],\n",
              "        [-4.6485,  2.3589,  0.4298,  ...,  1.8078, -1.1828,  0.6581],\n",
              "        [ 1.0247, -7.1335, -3.4627,  ...,  1.5676,  3.6929,  0.6161]])"
            ]
          },
          "metadata": {},
          "execution_count": 16
        }
      ]
    },
    {
      "cell_type": "code",
      "source": [
        "# Slight variation in using .view (compared to above cell)\n",
        "h = emb.view(-1, emb.shape[1]*emb.shape[2]) @ W1 + b1  # with -1, torch infers that dimension (in this case, 32)\n",
        "print(h.shape)"
      ],
      "metadata": {
        "id": "7ePMIedRX_5J",
        "colab": {
          "base_uri": "https://localhost:8080/"
        },
        "outputId": "d2244a9a-8213-45b9-9b4d-b4e46c18ca5d"
      },
      "execution_count": 17,
      "outputs": [
        {
          "output_type": "stream",
          "name": "stdout",
          "text": [
            "torch.Size([32, 100])\n"
          ]
        }
      ]
    },
    {
      "cell_type": "code",
      "source": [
        "# Double check if broadcasting is working correctly in the matrix multiplication/addition\n",
        "p = emb.view(-1, emb.shape[1]*emb.shape[2]) @ W1\n",
        "print(p.shape)\n",
        "print(b1.shape)\n",
        "# 32 x 100\n",
        "# 100\n",
        "#      100  broadcasting will align 100 to right\n",
        "# 1  x 100  create fake dimension 1 on left to get a row vector\n",
        "# Do row-wise addition. So the same bias-vector will be added element-wise to the rows.\n",
        "# This is what we want"
      ],
      "metadata": {
        "colab": {
          "base_uri": "https://localhost:8080/"
        },
        "id": "KZsPP0MsPZij",
        "outputId": "5f4a9416-2141-459f-a2c9-277118da1fc8"
      },
      "execution_count": 18,
      "outputs": [
        {
          "output_type": "stream",
          "name": "stdout",
          "text": [
            "torch.Size([32, 100])\n",
            "torch.Size([100])\n"
          ]
        }
      ]
    },
    {
      "cell_type": "code",
      "source": [
        "# Now apply tanh activation. Each element will be between [-1, 1] inclusive\n",
        "h = torch.tanh(p + b1)\n",
        "print(h.shape)\n",
        "h"
      ],
      "metadata": {
        "colab": {
          "base_uri": "https://localhost:8080/"
        },
        "id": "CN82-zOwQdPR",
        "outputId": "b9671e68-44b9-449c-9706-8c9078114b31"
      },
      "execution_count": 19,
      "outputs": [
        {
          "output_type": "stream",
          "name": "stdout",
          "text": [
            "torch.Size([32, 100])\n"
          ]
        },
        {
          "output_type": "execute_result",
          "data": {
            "text/plain": [
              "tensor([[ 0.9993, -1.0000, -0.5567,  ...,  0.9875, -0.9955, -0.9970],\n",
              "        [ 0.2049,  0.9985,  0.2481,  ...,  0.8293, -1.0000, -1.0000],\n",
              "        [-0.9219,  0.9228, -0.9995,  ...,  0.3422,  0.8872, -0.9998],\n",
              "        ...,\n",
              "        [ 0.7914, -1.0000, -0.9653,  ...,  0.2739, -0.2786, -0.8450],\n",
              "        [-0.9998,  0.9823,  0.4051,  ...,  0.9476, -0.8283,  0.5771],\n",
              "        [ 0.7718, -1.0000, -0.9980,  ...,  0.9166,  0.9988,  0.5484]])"
            ]
          },
          "metadata": {},
          "execution_count": 19
        }
      ]
    },
    {
      "cell_type": "code",
      "source": [
        "# layer 3 - softmax layer\n",
        "print(h.shape[1])\n",
        "print(SZ)\n",
        "W2 = torch.randn(h.shape[1], SZ)\n",
        "b2 = torch.randn(SZ)\n",
        "print(W2.shape, b2.shape)"
      ],
      "metadata": {
        "colab": {
          "base_uri": "https://localhost:8080/"
        },
        "id": "Cb1yXPf1Skt_",
        "outputId": "c068a812-a85c-42d7-f290-d94a54bd0dde"
      },
      "execution_count": 20,
      "outputs": [
        {
          "output_type": "stream",
          "name": "stdout",
          "text": [
            "100\n",
            "27\n",
            "torch.Size([100, 27]) torch.Size([27])\n"
          ]
        }
      ]
    },
    {
      "cell_type": "code",
      "source": [
        "# Calculate logits\n",
        "logits = h @ W2 + b2\n",
        "logits.shape"
      ],
      "metadata": {
        "colab": {
          "base_uri": "https://localhost:8080/"
        },
        "id": "gTr5oy8oTqKu",
        "outputId": "b093f82f-87f1-43c2-9a79-cfc7161eff13"
      },
      "execution_count": 21,
      "outputs": [
        {
          "output_type": "execute_result",
          "data": {
            "text/plain": [
              "torch.Size([32, 27])"
            ]
          },
          "metadata": {},
          "execution_count": 21
        }
      ]
    },
    {
      "cell_type": "code",
      "source": [
        "# exponentiate to get fake counts\n",
        "counts = logits.exp()\n",
        "counts.shape"
      ],
      "metadata": {
        "colab": {
          "base_uri": "https://localhost:8080/"
        },
        "id": "VfHZ02FWUL-F",
        "outputId": "5b6b2017-870a-46a3-bd9e-c274670ad303"
      },
      "execution_count": 22,
      "outputs": [
        {
          "output_type": "execute_result",
          "data": {
            "text/plain": [
              "torch.Size([32, 27])"
            ]
          },
          "metadata": {},
          "execution_count": 22
        }
      ]
    },
    {
      "cell_type": "code",
      "source": [
        "# compute probabilities\n",
        "prob = counts / counts.sum(1, keepdims=True)\n",
        "prob.shape"
      ],
      "metadata": {
        "colab": {
          "base_uri": "https://localhost:8080/"
        },
        "id": "lIr0uDwVU4Dt",
        "outputId": "90108956-54d8-4655-d643-7c2686ea1780"
      },
      "execution_count": 23,
      "outputs": [
        {
          "output_type": "execute_result",
          "data": {
            "text/plain": [
              "torch.Size([32, 27])"
            ]
          },
          "metadata": {},
          "execution_count": 23
        }
      ]
    },
    {
      "cell_type": "code",
      "source": [
        "# print the actual Y values\n",
        "Y"
      ],
      "metadata": {
        "colab": {
          "base_uri": "https://localhost:8080/"
        },
        "id": "-4JLoCn7VSTV",
        "outputId": "9ab4d600-4133-4342-9c95-6ec7549c2c68"
      },
      "execution_count": 24,
      "outputs": [
        {
          "output_type": "execute_result",
          "data": {
            "text/plain": [
              "tensor([ 5, 13, 13,  1,  0, 15, 12,  9, 22,  9,  1,  0,  1, 22,  1,  0,  9, 19,\n",
              "         1,  2,  5, 12, 12,  1,  0, 19, 15, 16,  8,  9,  1,  0])"
            ]
          },
          "metadata": {},
          "execution_count": 24
        }
      ]
    },
    {
      "cell_type": "code",
      "source": [
        "# infer the predicted Y values from the probabilites\n",
        "print(torch.arange(prob.shape[0]))\n",
        "Y_pred = prob[torch.arange(prob.shape[0]), Y]\n",
        "print(Y_pred)  # the probability for the index corresponding to actual Y values\n",
        "# we haven't trained the model yet, ideal values for the probability would be 1"
      ],
      "metadata": {
        "colab": {
          "base_uri": "https://localhost:8080/"
        },
        "id": "enVgf61FV_vM",
        "outputId": "c4039d3f-93a9-4c08-ed4b-9b059d1e69a4"
      },
      "execution_count": 25,
      "outputs": [
        {
          "output_type": "stream",
          "name": "stdout",
          "text": [
            "tensor([ 0,  1,  2,  3,  4,  5,  6,  7,  8,  9, 10, 11, 12, 13, 14, 15, 16, 17,\n",
            "        18, 19, 20, 21, 22, 23, 24, 25, 26, 27, 28, 29, 30, 31])\n",
            "tensor([9.8972e-01, 3.2911e-04, 2.3336e-13, 5.2675e-11, 1.1423e-11, 1.4155e-10,\n",
            "        6.0805e-10, 1.3139e-06, 3.0485e-11, 6.1050e-02, 3.0722e-10, 2.1925e-12,\n",
            "        3.0432e-07, 6.8736e-14, 2.1394e-03, 2.9485e-09, 2.6078e-09, 9.9535e-11,\n",
            "        1.4983e-08, 4.7424e-09, 4.4171e-03, 5.1293e-11, 1.5015e-16, 1.0380e-13,\n",
            "        1.8272e-14, 4.8858e-09, 4.6696e-12, 1.7996e-02, 3.1002e-16, 2.5006e-03,\n",
            "        1.3060e-09, 2.2847e-12])\n"
          ]
        }
      ]
    },
    {
      "cell_type": "code",
      "source": [
        "# calculate the loss - remember, loss is to be minimized\n",
        "loss = -Y_pred.log().mean()\n",
        "print(loss)\n",
        "# an alternate way to calculate loss\n",
        "# cross entropy is a much better way:\n",
        "# 1. efficient in terms of compute & memory\n",
        "# 2. for large positive values, exp() results in nan\n",
        "#    cross_entropy takes care of that\n",
        "F.cross_entropy(logits, Y)"
      ],
      "metadata": {
        "colab": {
          "base_uri": "https://localhost:8080/"
        },
        "id": "wyDTBE32WfRL",
        "outputId": "7383ae8e-9692-4841-ff50-4a8808a91ef4"
      },
      "execution_count": 26,
      "outputs": [
        {
          "output_type": "stream",
          "name": "stdout",
          "text": [
            "tensor(19.8608)\n"
          ]
        },
        {
          "output_type": "execute_result",
          "data": {
            "text/plain": [
              "tensor(19.8608)"
            ]
          },
          "metadata": {},
          "execution_count": 26
        }
      ]
    },
    {
      "cell_type": "code",
      "source": [
        "# puts everything together\n",
        "# build the dataset\n",
        "block_sz = 3\n",
        "X, Y = [], []\n",
        "for w in words:\n",
        "  #print(w)\n",
        "  context = [0] * block_sz\n",
        "  for c in w + '.':\n",
        "    ix = stoi[c]\n",
        "    X.append(context)\n",
        "    Y.append(ix)\n",
        "    #print(''.join(itos[i] for i in context), '----->', itos[ix])\n",
        "    context = context[1:] + [ix]\n",
        "\n",
        "X = torch.tensor(X)\n",
        "Y = torch.tensor(Y)\n",
        "X.shape, Y.shape  # dataset"
      ],
      "metadata": {
        "colab": {
          "base_uri": "https://localhost:8080/"
        },
        "id": "EueDGvVMX1VK",
        "outputId": "19d200ad-80f2-4fe4-9f5d-483f5716f27a"
      },
      "execution_count": 48,
      "outputs": [
        {
          "output_type": "execute_result",
          "data": {
            "text/plain": [
              "(torch.Size([228146, 3]), torch.Size([228146]))"
            ]
          },
          "metadata": {},
          "execution_count": 48
        }
      ]
    },
    {
      "cell_type": "code",
      "source": [
        "# initialize all the parameters\n",
        "num_neurons = 100\n",
        "n_dim = 2  # embed input chars into 2-dimensional space\n",
        "g = torch.Generator().manual_seed(2147483647)  # reproducibility\n",
        "C = torch.randn((SZ, 2), generator=g)  # for embedding SZ input chars into 2-dimensional space\n",
        "W1 = torch.rand((block_sz*n_dim, num_neurons), generator=g)\n",
        "b1 = torch.randn(num_neurons, generator=g)\n",
        "W2 = torch.randn((num_neurons, SZ), generator=g)\n",
        "b2 = torch.randn(SZ, generator=g)\n",
        "parameters = [C, W1, b1, W2, b2]"
      ],
      "metadata": {
        "id": "YPP-TqKRYPU5"
      },
      "execution_count": 49,
      "outputs": []
    },
    {
      "cell_type": "code",
      "source": [
        "# check number of parameters - just like LLMs advertise\n",
        "sum(p.nelement() for p in parameters)"
      ],
      "metadata": {
        "colab": {
          "base_uri": "https://localhost:8080/"
        },
        "id": "8bFdxLmTfCLb",
        "outputId": "1c3c8458-bf9a-44d7-bebe-3765754a2e6f"
      },
      "execution_count": 50,
      "outputs": [
        {
          "output_type": "execute_result",
          "data": {
            "text/plain": [
              "3481"
            ]
          },
          "metadata": {},
          "execution_count": 50
        }
      ]
    },
    {
      "cell_type": "code",
      "source": [
        "for p in parameters:\n",
        "  p.requires_grad = True"
      ],
      "metadata": {
        "id": "Sz4aqNac3ym2"
      },
      "execution_count": 51,
      "outputs": []
    },
    {
      "cell_type": "code",
      "source": [
        "# determine good learning rate\n",
        "# 1st determine range (0.001, 1)\n",
        "# traverse the range exponentially, instead of linearly\n",
        "#   low in the beginning, high in the end\n",
        "lre = torch.linspace(-3, 0, 1000)\n",
        "lrs = 10**lre\n",
        "plt.plot(lre, lrs)"
      ],
      "metadata": {
        "colab": {
          "base_uri": "https://localhost:8080/",
          "height": 447
        },
        "id": "GNy8x0LcIVHg",
        "outputId": "2d81a753-939e-4912-b9dc-0a2faed8c40c"
      },
      "execution_count": 52,
      "outputs": [
        {
          "output_type": "execute_result",
          "data": {
            "text/plain": [
              "[<matplotlib.lines.Line2D at 0x7fd4ec4f7710>]"
            ]
          },
          "metadata": {},
          "execution_count": 52
        },
        {
          "output_type": "display_data",
          "data": {
            "text/plain": [
              "<Figure size 640x480 with 1 Axes>"
            ],
            "image/png": "[encoded data removed]"
          },
          "metadata": {}
        }
      ]
    },
    {
      "cell_type": "code",
      "source": [
        "lri = []\n",
        "lossi = []\n",
        "\n",
        "niter = 10000\n",
        "lr = 0.1  # best learning rate determined experimentally\n",
        "for i in range(niter):\n",
        "\n",
        "  # minibatch construct\n",
        "  ix = torch.randint(0, X.shape[0], (32,))\n",
        "\n",
        "  # forward pass\n",
        "  emb = C[X[ix]]\n",
        "  h = torch.tanh(emb.view(-1, emb.shape[1]*emb.shape[2]) @ W1 + b1)\n",
        "  logits = h @ W2 + b2\n",
        "  loss = F.cross_entropy(logits, Y[ix])\n",
        "  # print(loss.item())\n",
        "\n",
        "  # backward pass\n",
        "  for p in parameters:\n",
        "    p.grad = None\n",
        "  loss.backward()\n",
        "\n",
        "  # update parameters\n",
        "  # lr = lrs[i]\n",
        "  for p in parameters:\n",
        "    p.data += -lr * p.grad\n",
        "\n",
        "  # track stats\n",
        "  # lri.append(lre[i])  # learning rate\n",
        "  # lossi.append(loss.item())  # loss\n",
        "print(loss.item())"
      ],
      "metadata": {
        "colab": {
          "base_uri": "https://localhost:8080/"
        },
        "id": "r0LvcPl534ms",
        "outputId": "c31ba7e1-013c-41d4-cab6-923b73de7fbe"
      },
      "execution_count": 53,
      "outputs": [
        {
          "output_type": "stream",
          "name": "stdout",
          "text": [
            "1.9479632377624512\n"
          ]
        }
      ]
    },
    {
      "cell_type": "code",
      "source": [
        "# plot to decide which learning rate is good\n",
        "# roughly the minima comes at 10**-1 = 0.1\n",
        "plt.plot(lri, lossi)"
      ],
      "metadata": {
        "colab": {
          "base_uri": "https://localhost:8080/",
          "height": 452
        },
        "id": "Prw3k3ws40X7",
        "outputId": "a799a78e-09e2-4c73-ec6d-1e23ea264e5d"
      },
      "execution_count": 46,
      "outputs": [
        {
          "output_type": "execute_result",
          "data": {
            "text/plain": [
              "[<matplotlib.lines.Line2D at 0x7fd4ec782c90>]"
            ]
          },
          "metadata": {},
          "execution_count": 46
        },
        {
          "output_type": "display_data",
          "data": {
            "text/plain": [
              "<Figure size 640x480 with 1 Axes>"
            ],
            "image/png": "[encoded data removed]"
          },
          "metadata": {}
        }
      ]
    },
    {
      "cell_type": "code",
      "source": [],
      "metadata": {
        "colab": {
          "base_uri": "https://localhost:8080/"
        },
        "id": "74JmFrQSJlsl",
        "outputId": "e89156e5-a51f-476c-e688-53d2a1bea1c4"
      },
      "execution_count": 53,
      "outputs": [
        {
          "output_type": "execute_result",
          "data": {
            "text/plain": [
              "tensor([0.0010, 0.0022, 0.0046, 0.0100, 0.0215, 0.0464, 0.1000, 0.2154, 0.4642,\n",
              "        1.0000])"
            ]
          },
          "metadata": {},
          "execution_count": 53
        }
      ]
    },
    {
      "cell_type": "code",
      "source": [],
      "metadata": {
        "id": "lfFB24DeIwGm"
      },
      "execution_count": null,
      "outputs": []
    }
  ]
}